{
 "cells": [
  {
   "cell_type": "code",
   "execution_count": 1,
   "metadata": {},
   "outputs": [],
   "source": [
    "corpus_of_documents = [\n",
    "\"Decide on a date and time for the picnic.\",\n",
    "\"Choose a location (e.g., park, beach, or a nature reserve).\",\n",
    "\"Create a guest list and send out invitations.\",\n",
    "\"Plan the menu and assign food items for everyone to bring.\",\n",
    "\"Pack essentials like blankets, sunscreen, and games.\",\n",
    "\"Confirm the weather forecast for the day of the picnic.\",\n",
    "\"Notify all guests about the cancellation as soon as possible.\",\n",
    "\"Provide a reason for the cancellation (e.g., bad weather, unexpected event).\",\n",
    "\"Suggest a new date or alternative plans if possible.\",\n",
    "\"Apologize for any inconvenience caused.\",\n",
    "\"Follow up with a new invitation once a new plan is set.\",\n",
    "]"
   ]
  },
  {
   "cell_type": "code",
   "execution_count": 2,
   "metadata": {},
   "outputs": [
    {
     "data": {
      "text/plain": [
       "['Decide on a date and time for the picnic.',\n",
       " 'Choose a location (e.g., park, beach, or a nature reserve).',\n",
       " 'Create a guest list and send out invitations.',\n",
       " 'Plan the menu and assign food items for everyone to bring.',\n",
       " 'Pack essentials like blankets, sunscreen, and games.',\n",
       " 'Confirm the weather forecast for the day of the picnic.',\n",
       " 'Notify all guests about the cancellation as soon as possible.',\n",
       " 'Provide a reason for the cancellation (e.g., bad weather, unexpected event).',\n",
       " 'Suggest a new date or alternative plans if possible.',\n",
       " 'Apologize for any inconvenience caused.',\n",
       " 'Follow up with a new invitation once a new plan is set.']"
      ]
     },
     "execution_count": 2,
     "metadata": {},
     "output_type": "execute_result"
    }
   ],
   "source": [
    "corpus_of_documents"
   ]
  },
  {
   "cell_type": "code",
   "execution_count": 3,
   "metadata": {},
   "outputs": [],
   "source": [
    "user_query = \"Why do we need to follow up when new plan is set and give a invitation\""
   ]
  },
  {
   "cell_type": "code",
   "execution_count": 4,
   "metadata": {},
   "outputs": [],
   "source": [
    "document = \"We need to follow up because we have a cancellation of the plan of a picnic trip and invite when a new plan is setup\""
   ]
  },
  {
   "cell_type": "code",
   "execution_count": 5,
   "metadata": {},
   "outputs": [],
   "source": [
    "from collections import Counter\n",
    "import math"
   ]
  },
  {
   "cell_type": "code",
   "execution_count": 6,
   "metadata": {},
   "outputs": [],
   "source": [
    "query_tokens = user_query.lower().split(\" \")\n",
    "doc_tokens = document.lower().split(\" \")"
   ]
  },
  {
   "cell_type": "code",
   "execution_count": 7,
   "metadata": {},
   "outputs": [],
   "source": [
    "query_counter = Counter(query_tokens)\n",
    "doc_counter = Counter(doc_tokens)"
   ]
  },
  {
   "cell_type": "markdown",
   "metadata": {},
   "source": []
  },
  {
   "cell_type": "code",
   "execution_count": null,
   "metadata": {},
   "outputs": [],
   "source": []
  },
  {
   "cell_type": "code",
   "execution_count": null,
   "metadata": {},
   "outputs": [],
   "source": []
  }
 ],
 "metadata": {
  "kernelspec": {
   "display_name": "app",
   "language": "python",
   "name": "python3"
  },
  "language_info": {
   "codemirror_mode": {
    "name": "ipython",
    "version": 3
   },
   "file_extension": ".py",
   "mimetype": "text/x-python",
   "name": "python",
   "nbconvert_exporter": "python",
   "pygments_lexer": "ipython3",
   "version": "3.12.5"
  }
 },
 "nbformat": 4,
 "nbformat_minor": 2
}
